{
  "nbformat": 4,
  "nbformat_minor": 0,
  "metadata": {
    "colab": {
      "provenance": [],
      "authorship_tag": "ABX9TyPq/M6PTqFru3y7EoNwAaOZ",
      "include_colab_link": true
    },
    "kernelspec": {
      "name": "python3",
      "display_name": "Python 3"
    },
    "language_info": {
      "name": "python"
    }
  },
  "cells": [
    {
      "cell_type": "markdown",
      "metadata": {
        "id": "view-in-github",
        "colab_type": "text"
      },
      "source": [
        "<a href=\"https://colab.research.google.com/github/ayushijainn111/GenAI-APIs/blob/main/Crio_Do_Meal_Suggestion_Assistant.ipynb\" target=\"_parent\"><img src=\"https://colab.research.google.com/assets/colab-badge.svg\" alt=\"Open In Colab\"/></a>"
      ]
    },
    {
      "cell_type": "code",
      "execution_count": 20,
      "metadata": {
        "id": "Y9salBKBByTq"
      },
      "outputs": [],
      "source": [
        "# pip install --upgrade google-generativeai"
      ]
    },
    {
      "cell_type": "markdown",
      "source": [
        "###  1.Users should understand the need for using APIs to access LLMs"
      ],
      "metadata": {
        "id": "gfTCzGyYDNeC"
      }
    },
    {
      "cell_type": "markdown",
      "source": [
        "#### 1.1 Stimulate a traditional assistant without AI"
      ],
      "metadata": {
        "id": "ptu3mE0ZDXpp"
      }
    },
    {
      "cell_type": "code",
      "source": [
        "#NOTE:\n",
        "# random is a library used in python to generate random numbers or make random choices\n",
        "\n",
        "import random\n",
        "\n",
        "meals = [\n",
        "    \"Avocado toast with egg\",\n",
        "    \"Grilled chicken and veggies\",\n",
        "    \"Fruit salad bowl\"\n",
        "]\n",
        "\n",
        "# random.choice() is used to pick one item at random from a list or other sequence\n",
        "\n",
        "print(\"Meal suggestion:\", random.choice(meals))"
      ],
      "metadata": {
        "colab": {
          "base_uri": "https://localhost:8080/"
        },
        "id": "8FK_GuXIB7tx",
        "outputId": "b56b90de-4afe-47fa-8de4-7222a9b5e853"
      },
      "execution_count": 21,
      "outputs": [
        {
          "output_type": "stream",
          "name": "stdout",
          "text": [
            "Meal suggestion: Grilled chicken and veggies\n"
          ]
        }
      ]
    },
    {
      "cell_type": "markdown",
      "source": [
        "#### 1.2Stimulate Local AI (which is not possible)"
      ],
      "metadata": {
        "id": "u1q9SEhXDi7c"
      }
    },
    {
      "cell_type": "code",
      "source": [
        "# Requirements to construct a local LLM:\n",
        "# 100+ GB of RAM\n",
        "# 10+ GB model download (like LLaMA)\n",
        "# High-end GPUs\n",
        "# Complex installation & optimization\n",
        "\n",
        "# This is to understand the importance of the need to use API’s to access LLMs."
      ],
      "metadata": {
        "id": "Kw-N6e7XCFff"
      },
      "execution_count": 22,
      "outputs": []
    },
    {
      "cell_type": "markdown",
      "source": [
        "### 2.Users should be able to implement best practices for API error handling and retries"
      ],
      "metadata": {
        "id": "3E4TgnZnEIF9"
      }
    },
    {
      "cell_type": "markdown",
      "source": [
        "#### 2.1Function with retries and exponential backoff to handle API errors"
      ],
      "metadata": {
        "id": "DzAnOosyEOcH"
      }
    },
    {
      "cell_type": "code",
      "source": [
        "import time\n",
        "\n",
        "def safe_gemini_call(prompt, retries=3):\n",
        "    for attempt in range(retries):\n",
        "\n",
        "    # try - except Block is used to catch and handle errors\n",
        "        try:\n",
        "            response = model.generate_content(prompt)\n",
        "            return response.text.strip()\n",
        "\n",
        "    #Exception as e captures the error message into a variable e\n",
        "        except Exception as e:\n",
        "            print(f\"Attempt {attempt+1} failed: {e}\")\n",
        "    # time.sleep() pauses the program for given no of seconds\n",
        "    #before continuing\n",
        "            time.sleep(2 ** attempt)\n",
        "    return \"Sorry, couldn't generate a response.\""
      ],
      "metadata": {
        "id": "LoVdLBbVCzAa"
      },
      "execution_count": 23,
      "outputs": []
    },
    {
      "cell_type": "markdown",
      "source": [
        "### 3.Users should be able to Authenticate and interact with GenAI APIs to generate text, audio, and image"
      ],
      "metadata": {
        "id": "UZau_vVJDowP"
      }
    },
    {
      "cell_type": "markdown",
      "source": [
        "#### 3.1Code to make basic Gemini API to extract text"
      ],
      "metadata": {
        "id": "L08yMK_jDs3U"
      }
    },
    {
      "cell_type": "code",
      "source": [
        "# to install Google’s Generative AI python library, allowing developers to use AI models\n",
        "\n",
        "# pip install google-generativeai\n",
        "\n",
        "\n",
        "import google.generativeai as genai\n",
        "\n",
        "# configure is used to set up authentication by providing API key to access AI models\n",
        "genai.configure(api_key=\"YOUR_API_KEY\")\n",
        "\n",
        "#.GenerativeModel create instance of a specific Google AI model\n",
        "model = genai.GenerativeModel(\"gemini-2.0-flash\")\n",
        "\n",
        "# .generate_content is a method used to send a prompt\n",
        "response = model.generate_content(\"Name one meal I can eat today.No explanation\")\n",
        "\n",
        "meal= response\n",
        "\n",
        "print(\"Meal Suggestion:\", meal)"
      ],
      "metadata": {
        "colab": {
          "base_uri": "https://localhost:8080/",
          "height": 509
        },
        "id": "vRwNYY_fCH8u",
        "outputId": "7b6fd95a-9bd4-4bc1-eafb-18cebcbecd33"
      },
      "execution_count": 24,
      "outputs": [
        {
          "output_type": "stream",
          "name": "stdout",
          "text": [
            "Meal Suggestion: response:\n",
            "GenerateContentResponse(\n",
            "    done=True,\n",
            "    iterator=None,\n",
            "    result=protos.GenerateContentResponse({\n",
            "      \"candidates\": [\n",
            "        {\n",
            "          \"content\": {\n",
            "            \"parts\": [\n",
            "              {\n",
            "                \"text\": \"Pasta salad\\n\"\n",
            "              }\n",
            "            ],\n",
            "            \"role\": \"model\"\n",
            "          },\n",
            "          \"finish_reason\": \"STOP\",\n",
            "          \"avg_logprobs\": -0.8085983594258627\n",
            "        }\n",
            "      ],\n",
            "      \"usage_metadata\": {\n",
            "        \"prompt_token_count\": 10,\n",
            "        \"candidates_token_count\": 3,\n",
            "        \"total_token_count\": 13\n",
            "      },\n",
            "      \"model_version\": \"gemini-2.0-flash\"\n",
            "    }),\n",
            ")\n"
          ]
        }
      ]
    },
    {
      "cell_type": "code",
      "source": [
        "# .text is used to access the content of a response as a plain string\n",
        "#.strip() is used to remove any leading and trailing whitespace\n",
        "meal = response.text.strip()\n",
        "\n",
        "print(\"\\n Meal Suggestion:\",meal)"
      ],
      "metadata": {
        "colab": {
          "base_uri": "https://localhost:8080/"
        },
        "id": "CMLgI24oCKg-",
        "outputId": "2e915e99-504b-429c-cdc5-6e1a18d26682"
      },
      "execution_count": 25,
      "outputs": [
        {
          "output_type": "stream",
          "name": "stdout",
          "text": [
            "\n",
            " Meal Suggestion: Pasta salad\n"
          ]
        }
      ]
    },
    {
      "cell_type": "markdown",
      "source": [
        "#### 3.2Code to make basic Gemini API to generate image"
      ],
      "metadata": {
        "id": "liqnljKVDzXL"
      }
    },
    {
      "cell_type": "code",
      "source": [
        "# requests: Simplifies sending HTTP requests like GET and POST in Python.\n",
        "# PIL : Used for opening, editing, and saving images.\n",
        "# BytesIO : Handles byte data as a file-like object in memory.\n",
        "\n",
        "import requests\n",
        "from PIL import Image\n",
        "from io import BytesIO\n",
        "\n",
        "# Hugging Face API key and endpoint for Stable Diffusion model\n",
        "HF_API_KEY = \"YOUR_HUGGINGFACE_API_KEY\"\n",
        "API_URL = \"https://api-inference.huggingface.co/models/runwayml/stable-diffusion-v1-5\"\n",
        "\n",
        "\n",
        "#Sets headers for authentication and specifies the request body type as JSON format.\n",
        "headers = {\n",
        "    \"Authorization\": f\"Bearer {HF_API_KEY}\",\n",
        "    \"Content-Type\": \"application/json\"\n",
        "}\n",
        "\n",
        "user_prompt = meal\n",
        "\n",
        "# Prepare the payload with the user prompt\n",
        "payload = {\n",
        "    \"inputs\": user_prompt,\n",
        "    \"options\": {\"wait_for_model\": True}\n",
        "}\n",
        "\n",
        "# Send request to Hugging Face API\n",
        "print(\"\\n Generating image...\")\n",
        "\n",
        "response = requests.post(API_URL, headers=headers, json=payload)\n",
        "\n",
        "if response.status_code == 200:\n",
        "    # Open the generated image from the response\n",
        "    image_data = response.content\n",
        "    image = Image.open(BytesIO(image_data))\n",
        "\n",
        "    # Display the image\n",
        "    image.show()\n",
        "\n",
        "    # Optional: Save the image\n",
        "    image.save(\"generated_image.png\")\n",
        "    print(\" Image saved as generated_image.png\")\n",
        "else:\n",
        "    print(\" Image generation failed:\", response.status_code)\n",
        "    print(response.text)"
      ],
      "metadata": {
        "colab": {
          "base_uri": "https://localhost:8080/"
        },
        "id": "nwqf8d0aCNiw",
        "outputId": "0a328afe-b46f-473c-be5b-009717bb7b21"
      },
      "execution_count": 26,
      "outputs": [
        {
          "output_type": "stream",
          "name": "stdout",
          "text": [
            "\n",
            " Generating image...\n",
            " Image saved as generated_image.png\n"
          ]
        }
      ]
    },
    {
      "cell_type": "markdown",
      "source": [
        "#### 3.3Code to make basic Gemini API generate audio"
      ],
      "metadata": {
        "id": "FhJ8wc6BD5fl"
      }
    },
    {
      "cell_type": "code",
      "source": [
        "# pip install gTTs"
      ],
      "metadata": {
        "id": "GjK5LXsRCPRX"
      },
      "execution_count": 27,
      "outputs": []
    },
    {
      "cell_type": "code",
      "source": [
        "# pip install gTTs\n",
        "\n",
        "import google.generativeai as genai\n",
        "from gtts import gTTS\n",
        "import os\n",
        "\n",
        "# Configure Gemini\n",
        "\n",
        "genai.configure(api_key=\"YOUR_API_KEY\")\n",
        "\n",
        "prompt = f\"Explain why {meal} is beneficial for breakfast in one simple paragraph, without using bullet points or lists..\"\n",
        "\n",
        "# .text is used to access the content of a response as a plain string\n",
        "#.strip() is used to remove any leading and trailing whitespace\n",
        "\n",
        "response = model.generate_content(prompt)\n",
        "formatted_explanation = response.text.strip()\n",
        "\n",
        "print(\"Explanation:\", formatted_explanation)\n",
        "\n",
        "\n",
        "# Convert the generated explanation to audio using gTTS\n",
        "\n",
        "def generate_audio(formatted_explanation):\n",
        "    # Generate audio using gTTS\n",
        "    tts = gTTS(text=formatted_explanation, lang='en')\n",
        "     # Save the audio to a file\n",
        "    tts.save(\"meal_suggestion.mp3\")\n",
        "    print(\"Audio saved as 'meal_suggestion.mp3'\")\n",
        "\n",
        "# Generate and save audio from the quote\n",
        "\n",
        "generate_audio(formatted_explanation)"
      ],
      "metadata": {
        "colab": {
          "base_uri": "https://localhost:8080/",
          "height": 73
        },
        "id": "B68-Ax9uCXaT",
        "outputId": "b1065ac9-7851-4c19-cade-f46fd536d971"
      },
      "execution_count": 28,
      "outputs": [
        {
          "output_type": "stream",
          "name": "stdout",
          "text": [
            "Explanation: Pasta salad can be a surprisingly beneficial breakfast option because it offers a balanced combination of carbohydrates for sustained energy, protein from ingredients like cheese, beans, or meats, and healthy fats from dressings or additions like avocados. This mix helps regulate blood sugar levels, preventing energy crashes later in the morning, while also providing essential nutrients and fiber to keep you feeling full and satisfied until lunchtime.\n",
            "Audio saved as 'meal_suggestion.mp3'\n"
          ]
        }
      ]
    },
    {
      "cell_type": "markdown",
      "source": [
        "### 4.Users should be able to understand the need for parsing and utilizing structured API responses."
      ],
      "metadata": {
        "id": "J7b6fhEWEkeI"
      }
    },
    {
      "cell_type": "markdown",
      "source": [
        "#### 4.1Use Spoonacular API to parse the suggested meal to extract the recipe title and ID"
      ],
      "metadata": {
        "id": "7_-57l4KEouW"
      }
    },
    {
      "cell_type": "code",
      "source": [
        "import requests\n",
        "\n",
        "api_key = \"YOUR_SPOONACULAR_API_KEY\"\n",
        "meal_name = meal\n",
        "\n",
        "url = \"https://api.spoonacular.com/recipes/complexSearch\"\n",
        "params = {\n",
        "    \"query\": meal_name,\n",
        "    \"number\": 1,\n",
        "    \"apiKey\": api_key\n",
        "}\n",
        "\n",
        "response = requests.get(url, params=params)\n",
        "\n",
        "if response.status_code == 200:\n",
        "    data = response.json()\n",
        "    results = data.get(\"results\", [])\n",
        "    if results:\n",
        "        recipe = results[0]\n",
        "        print(f\"Recipe Title: {recipe['title']}\")\n",
        "        print(f\"Recipe ID: {recipe['id']}\")\n",
        "    else:\n",
        "        print(\"No recipes found for this meal.\")\n",
        "else:\n",
        "    print(f\"Error: {response.status_code}\")\n",
        "    print(response.text)"
      ],
      "metadata": {
        "colab": {
          "base_uri": "https://localhost:8080/"
        },
        "id": "SYkocSkyCZnB",
        "outputId": "6d7a818e-a240-42ed-925e-73a253280d21"
      },
      "execution_count": 29,
      "outputs": [
        {
          "output_type": "stream",
          "name": "stdout",
          "text": [
            "Recipe Title: Tricolor Rotini pasta Salad\n",
            "Recipe ID: 663813\n"
          ]
        }
      ]
    },
    {
      "cell_type": "markdown",
      "source": [
        "#### 4.2Use the recipe title generated to explain the dish in a structured way"
      ],
      "metadata": {
        "id": "joWZyzwxE7Xq"
      }
    },
    {
      "cell_type": "code",
      "source": [
        "import google.generativeai as genai\n",
        "\n",
        "# Configure with your Gemini API key\n",
        "genai.configure(api_key=\"YOUR_API_KEY\")\n",
        "\n",
        "# Initialize the model\n",
        "model = genai.GenerativeModel(\"gemini-2.0-flash\")\n",
        "\n",
        "# Use recipe title to generate a descriptive explanation\n",
        "prompt = f\"Explain what the meal '{recipe['title']}' is, including key ingredients and how it's typically prepared.\"\n",
        "\n",
        "response = model.generate_content(prompt)\n",
        "\n",
        "#  Parse the structured GenAI response\n",
        "genai_text = response.text\n",
        "print(genai_text)"
      ],
      "metadata": {
        "colab": {
          "base_uri": "https://localhost:8080/",
          "height": 1000
        },
        "id": "jQJyeJ4NCrVu",
        "outputId": "02e60364-4bc7-4d04-d7b4-4441b8819272"
      },
      "execution_count": 30,
      "outputs": [
        {
          "output_type": "stream",
          "name": "stdout",
          "text": [
            "Tricolor Rotini Pasta Salad is a classic and popular cold pasta salad known for its vibrant colors and refreshing flavor. It's a versatile dish, making it perfect for potlucks, picnics, barbecues, or a quick and easy lunch.\n",
            "\n",
            "Here's a breakdown of what it is:\n",
            "\n",
            "**Key Characteristics:**\n",
            "\n",
            "*   **Pasta Type:**  The defining feature is the use of **tricolor rotini pasta**. Rotini pasta is spiral-shaped, providing plenty of surface area for the dressing to cling to. \"Tricolor\" means the pasta is made with a mix of plain (usually white), tomato (red), and spinach (green) flavored pasta, creating a visually appealing and colorful mix.\n",
            "\n",
            "*   **Cold Salad:** This dish is always served cold, making it ideal for warmer weather or as a make-ahead meal.\n",
            "\n",
            "*   **Versatile and Adaptable:**  The beauty of this salad is its adaptability. While some ingredients are standard, you can easily customize it to your liking with various vegetables, proteins, and cheeses.\n",
            "\n",
            "**Typical Key Ingredients:**\n",
            "\n",
            "*   **Tricolor Rotini Pasta:** The base of the salad.\n",
            "*   **Vegetables:**  A mix of raw, chopped vegetables is essential. Common choices include:\n",
            "    *   **Bell peppers:** Red, yellow, and/or green bell peppers for color and crunch.\n",
            "    *   **Cucumber:**  Adds a refreshing, crisp texture.\n",
            "    *   **Red onion:** Provides a pungent flavor. (Soaking in cold water for 10-15 minutes can mellow the sharpness)\n",
            "    *   **Cherry tomatoes or grape tomatoes:**  Add sweetness and burst of juice.\n",
            "    *   **Black olives:**  Contribute a salty, briny flavor.  Often sliced.\n",
            "    *   Other possible additions:  Broccoli florets (blanched or raw), carrots (shredded or diced), celery, zucchini.\n",
            "*   **Cheese:** Usually cubed or small pieces. Common choices include:\n",
            "    *   **Mozzarella:** Fresh mozzarella balls (bocconcini) or cubed mozzarella.\n",
            "    *   **Provolone:** Adds a slightly sharper flavor.\n",
            "    *   **Parmesan:** Grated or shaved parmesan.\n",
            "    *   **Feta:** Adds a tangy, salty flavor (less common, but delicious).\n",
            "*   **Protein (Optional, but common):**\n",
            "    *   **Italian meats:**  Salami, pepperoni, ham, or prosciutto, typically cubed or sliced.\n",
            "    *   **Grilled chicken or turkey:** Adds a heartier element.\n",
            "    *   **Canned tuna:**  A budget-friendly option.\n",
            "    *   **Hard-boiled eggs:** Sliced or chopped.\n",
            "*   **Dressing:**  A vinaigrette-based dressing is the most common:\n",
            "    *   **Italian Dressing:**  Often store-bought, but homemade is also great.\n",
            "    *   **Homemade Vinaigrette:**  Olive oil, vinegar (red wine vinegar, balsamic vinegar, or white wine vinegar), garlic, herbs (Italian seasoning, basil, oregano), salt, pepper, and sometimes a touch of sugar or honey.\n",
            "\n",
            "**Typical Preparation:**\n",
            "\n",
            "1.  **Cook the Pasta:** Cook the rotini pasta according to package directions until al dente (slightly firm). Drain and rinse with cold water to stop the cooking process and prevent sticking.\n",
            "\n",
            "2.  **Prepare the Vegetables and Other Ingredients:**  Chop all the vegetables, cheese, and protein into bite-sized pieces.\n",
            "\n",
            "3.  **Combine Ingredients:** In a large bowl, combine the cooked pasta, chopped vegetables, cheese, and protein (if using).\n",
            "\n",
            "4.  **Add Dressing:** Pour the dressing over the pasta mixture and toss gently to coat all the ingredients evenly.  Start with less dressing and add more to taste, as you don't want the salad to be swimming in dressing.\n",
            "\n",
            "5.  **Chill:**  Cover the salad and refrigerate for at least 30 minutes, or preferably longer (1-2 hours or overnight), to allow the flavors to meld together.  The salad tastes best when it's well-chilled.\n",
            "\n",
            "6.  **Serve:**  Stir before serving, as the dressing may settle at the bottom. Taste and adjust seasonings if needed.\n",
            "\n",
            "**Variations:**\n",
            "\n",
            "*   **Mediterranean:** Add feta cheese, Kalamata olives, sun-dried tomatoes, and artichoke hearts.\n",
            "*   **Vegetarian/Vegan:** Omit the meat and use vegan cheese.\n",
            "*   **Spicy:** Add a pinch of red pepper flakes to the dressing.\n",
            "*   **Creamy:** Use a creamy Italian dressing or add a dollop of mayonnaise or sour cream to the dressing.\n",
            "\n",
            "In summary, Tricolor Rotini Pasta Salad is a colorful, flavorful, and versatile dish that's perfect for various occasions. Its ease of preparation and customizable nature make it a crowd-pleaser.\n",
            "\n"
          ]
        }
      ]
    },
    {
      "cell_type": "markdown",
      "source": [
        "### 5.Users should be able to integrate multiple APIs into a single workflow"
      ],
      "metadata": {
        "id": "l45OYGNcEUV8"
      }
    },
    {
      "cell_type": "markdown",
      "source": [
        "#### 5.1Use Spoonacular API to generate the ingredients required for the meal"
      ],
      "metadata": {
        "id": "rwM2412mEXn4"
      }
    },
    {
      "cell_type": "code",
      "source": [
        "import requests\n",
        "\n",
        "api_key = \"YOUR_SPOONACULAR_API_KEY\"\n",
        "recipe_id = recipe['id']  # Replace with the actual ID from complexSearch\n",
        "\n",
        "url = f\"https://api.spoonacular.com/recipes/{recipe_id}/information\"\n",
        "\n",
        "params = {\n",
        "    \"apiKey\": api_key,\n",
        "    \"includeNutrition\": False  # Optional\n",
        "}\n",
        "\n",
        "response = requests.get(url, params=params)\n",
        "\n",
        "if response.status_code == 200:\n",
        "    data = response.json()\n",
        "    print(f\"Title: {data['title']}\")\n",
        "    print(\"Ingredients:\")\n",
        "    for ing in data[\"extendedIngredients\"]:\n",
        "        print(f\"- {ing['original']}\")\n",
        "else:\n",
        "    print(f\"Error: {response.status_code}\")\n",
        "    print(response.text)"
      ],
      "metadata": {
        "colab": {
          "base_uri": "https://localhost:8080/"
        },
        "id": "ch9yAiMiC58B",
        "outputId": "47f9f25b-a416-4ca1-ee9b-39552eebfe13"
      },
      "execution_count": 31,
      "outputs": [
        {
          "output_type": "stream",
          "name": "stdout",
          "text": [
            "Title: Tricolor Rotini pasta Salad\n",
            "Ingredients:\n",
            "- 1) Tri colour Rotini Pasta 100 gm\n",
            "- 2) Lettuce 2 Leaves\n",
            "- 3) Olives 10 nos\n",
            "- 4) Cucumber 1 small\n",
            "- 5) Plum tomato 5 nos\n",
            "- 6) Mayonnaise 2 Tbsp\n",
            "- 7) Black pepper powder 1 Tsp\n",
            "- 8) Salt ¼ Tsp\n"
          ]
        }
      ]
    },
    {
      "cell_type": "markdown",
      "source": [
        "#### 5.2Extract the nutrition of the ingredients using recipe id"
      ],
      "metadata": {
        "id": "NeQfR0lSHBzS"
      }
    },
    {
      "cell_type": "code",
      "source": [
        "import requests\n",
        "\n",
        "api_key = \"YOUR_SPOONACULAR_API_KEY\"\n",
        "recipe_id = recipe['id']\n",
        "\n",
        "# --- Get Recipe Info ---\n",
        "info_url = f\"https://api.spoonacular.com/recipes/{recipe_id}/information\"\n",
        "info_params = {\n",
        "    \"apiKey\": api_key,\n",
        "    \"includeNutrition\": False\n",
        "}\n",
        "\n",
        "info_response = requests.get(info_url, params=info_params)\n",
        "# --- Get Nutrition Info ---\n",
        "nutrition_url = f\"https://api.spoonacular.com/recipes/{recipe_id}/nutritionWidget.json\"\n",
        "nutrition_params = {\n",
        "    \"apiKey\": api_key\n",
        "}\n",
        "\n",
        "nutrition_response = requests.get(nutrition_url, params=nutrition_params)\n",
        "\n",
        "if nutrition_response.status_code == 200:\n",
        "    nutrition_data = nutrition_response.json()\n",
        "    print(\"\\n Nutrition Info:\")\n",
        "    for nutrient in nutrition_data[\"nutrients\"]:\n",
        "        print(f\"- {nutrient['name']}: {nutrient['amount']} {nutrient['unit']} ({nutrient['percentOfDailyNeeds']}% of daily needs)\")\n",
        "else:\n",
        "    print(f\"\\nError fetching nutrition data: {nutrition_response.status_code}\")\n",
        "    print(nutrition_response.text)\n"
      ],
      "metadata": {
        "colab": {
          "base_uri": "https://localhost:8080/"
        },
        "id": "0jepJAdYC-HB",
        "outputId": "0dc74251-98b8-4eda-83bb-2bc8379cff5e"
      },
      "execution_count": 32,
      "outputs": [
        {
          "output_type": "stream",
          "name": "stdout",
          "text": [
            "\n",
            " Nutrition Info:\n",
            "- Calories: 145.59 kcal (7.28% of daily needs)\n",
            "- Fat: 5.04 g (7.76% of daily needs)\n",
            "- Saturated Fat: 0.71 g (4.44% of daily needs)\n",
            "- Carbohydrates: 22.31 g (7.44% of daily needs)\n",
            "- Net Carbohydrates: 14.85 g (5.4% of daily needs)\n",
            "- Sugar: 13.02 g (14.47% of daily needs)\n",
            "- Cholesterol: 1.26 mg (0.42% of daily needs)\n",
            "- Sodium: 1690.52 mg (73.5% of daily needs)\n",
            "- Alcohol: 0 g (100% of daily needs)\n",
            "- Alcohol %: 0 % (100% of daily needs)\n",
            "- Protein: 5.72 g (11.44% of daily needs)\n",
            "- Vitamin A: 4981.99 IU (99.64% of daily needs)\n",
            "- Vitamin K: 63.23 µg (60.22% of daily needs)\n",
            "- Vitamin C: 47.43 mg (57.49% of daily needs)\n",
            "- Manganese: 0.77 mg (38.27% of daily needs)\n",
            "- Potassium: 1304.95 mg (37.28% of daily needs)\n",
            "- Folate: 120.5 µg (30.13% of daily needs)\n",
            "- Fiber: 7.47 g (29.86% of daily needs)\n",
            "- Vitamin B6: 0.54 mg (27.13% of daily needs)\n",
            "- Copper: 0.54 mg (27.05% of daily needs)\n",
            "- Magnesium: 98.49 mg (24.62% of daily needs)\n",
            "- Vitamin B1: 0.28 mg (18.72% of daily needs)\n",
            "- Phosphorus: 182.23 mg (18.22% of daily needs)\n",
            "- Vitamin E: 2.46 mg (16.4% of daily needs)\n",
            "- Vitamin B5: 1.59 mg (15.87% of daily needs)\n",
            "- Vitamin B2: 0.24 mg (13.94% of daily needs)\n",
            "- Iron: 2.28 mg (12.68% of daily needs)\n",
            "- Calcium: 117.75 mg (11.77% of daily needs)\n",
            "- Zinc: 1.44 mg (9.57% of daily needs)\n",
            "- Vitamin B3: 1.57 mg (7.83% of daily needs)\n",
            "- Selenium: 1.5 µg (2.14% of daily needs)\n"
          ]
        }
      ]
    },
    {
      "cell_type": "code",
      "source": [],
      "metadata": {
        "id": "WsQRAbjrGt0d"
      },
      "execution_count": 32,
      "outputs": []
    }
  ]
}