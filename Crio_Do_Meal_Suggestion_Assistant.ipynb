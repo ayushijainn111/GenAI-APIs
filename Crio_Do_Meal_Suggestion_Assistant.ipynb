{
  "nbformat": 4,
  "nbformat_minor": 0,
  "metadata": {
    "colab": {
      "provenance": [],
      "authorship_tag": "ABX9TyMi/bg9z+q0plBFtFgKckSJ",
      "include_colab_link": true
    },
    "kernelspec": {
      "name": "python3",
      "display_name": "Python 3"
    },
    "language_info": {
      "name": "python"
    }
  },
  "cells": [
    {
      "cell_type": "markdown",
      "metadata": {
        "id": "view-in-github",
        "colab_type": "text"
      },
      "source": [
        "<a href=\"https://colab.research.google.com/github/ayushijainn111/GenAI-APIs/blob/main/Crio_Do_Meal_Suggestion_Assistant.ipynb\" target=\"_parent\"><img src=\"https://colab.research.google.com/assets/colab-badge.svg\" alt=\"Open In Colab\"/></a>"
      ]
    },
    {
      "cell_type": "code",
      "execution_count": 29,
      "metadata": {
        "id": "Y9salBKBByTq"
      },
      "outputs": [],
      "source": [
        "# pip install --upgrade google-generativeai"
      ]
    },
    {
      "cell_type": "markdown",
      "source": [
        "###  1.Users should understand the need for using APIs to access LLMs"
      ],
      "metadata": {
        "id": "gfTCzGyYDNeC"
      }
    },
    {
      "cell_type": "markdown",
      "source": [
        "#### 1.1 Stimulate a traditional assistant without AI"
      ],
      "metadata": {
        "id": "ptu3mE0ZDXpp"
      }
    },
    {
      "cell_type": "code",
      "source": [
        "#NOTE:\n",
        "# random is a library used in python to generate random numbers or make random choices\n",
        "\n",
        "import random\n",
        "\n",
        "meals = [\n",
        "    \"Avocado toast with egg\",\n",
        "    \"Grilled chicken and veggies\",\n",
        "    \"Fruit salad bowl\"\n",
        "]\n",
        "\n",
        "# random.choice() is used to pick one item at random from a list or other sequence\n",
        "\n",
        "print(\"Meal suggestion:\", random.choice(meals))"
      ],
      "metadata": {
        "colab": {
          "base_uri": "https://localhost:8080/"
        },
        "id": "8FK_GuXIB7tx",
        "outputId": "3403bb48-87ba-4836-a47f-a9135606893c"
      },
      "execution_count": 30,
      "outputs": [
        {
          "output_type": "stream",
          "name": "stdout",
          "text": [
            "Meal suggestion: Grilled chicken and veggies\n"
          ]
        }
      ]
    },
    {
      "cell_type": "markdown",
      "source": [
        "#### 1.2Stimulate Local AI (which is not possible)"
      ],
      "metadata": {
        "id": "u1q9SEhXDi7c"
      }
    },
    {
      "cell_type": "code",
      "source": [
        "# Requirements to construct a local LLM:\n",
        "# 100+ GB of RAM\n",
        "# 10+ GB model download (like LLaMA)\n",
        "# High-end GPUs\n",
        "# Complex installation & optimization\n",
        "\n",
        "# This is to understand the importance of the need to use API’s to access LLMs."
      ],
      "metadata": {
        "id": "Kw-N6e7XCFff"
      },
      "execution_count": 31,
      "outputs": []
    },
    {
      "cell_type": "markdown",
      "source": [
        "### 2.Users should be able to implement best practices for API error handling and retries"
      ],
      "metadata": {
        "id": "3E4TgnZnEIF9"
      }
    },
    {
      "cell_type": "markdown",
      "source": [
        "#### 2.1Function with retries and exponential backoff to handle API errors"
      ],
      "metadata": {
        "id": "DzAnOosyEOcH"
      }
    },
    {
      "cell_type": "code",
      "source": [
        "import time\n",
        "\n",
        "def safe_gemini_call(prompt, retries=3):\n",
        "    for attempt in range(retries):\n",
        "\n",
        "    # try - except Block is used to catch and handle errors\n",
        "        try:\n",
        "            response = model.generate_content(prompt)\n",
        "            return response.text.strip()\n",
        "\n",
        "    #Exception as e captures the error message into a variable e\n",
        "        except Exception as e:\n",
        "            print(f\"Attempt {attempt+1} failed: {e}\")\n",
        "    # time.sleep() pauses the program for given no of seconds\n",
        "    #before continuing\n",
        "            time.sleep(2 ** attempt)\n",
        "    return \"Sorry, couldn't generate a response.\""
      ],
      "metadata": {
        "id": "LoVdLBbVCzAa"
      },
      "execution_count": 32,
      "outputs": []
    },
    {
      "cell_type": "markdown",
      "source": [
        "### 3.Users should be able to Authenticate and interact with GenAI APIs to generate text, audio, and image"
      ],
      "metadata": {
        "id": "UZau_vVJDowP"
      }
    },
    {
      "cell_type": "markdown",
      "source": [
        "#### 3.1Code to make basic Gemini API to extract text"
      ],
      "metadata": {
        "id": "L08yMK_jDs3U"
      }
    },
    {
      "cell_type": "code",
      "source": [
        "# to install Google’s Generative AI python library, allowing developers to use AI models\n",
        "\n",
        "# pip install google-generativeai\n",
        "\n",
        "\n",
        "import google.generativeai as genai\n",
        "\n",
        "# configure is used to set up authentication by providing API key to access AI models\n",
        "genai.configure(api_key=\"YOUR_API_KEY\")\n",
        "\n",
        "#.GenerativeModel create instance of a specific Google AI model\n",
        "model = genai.GenerativeModel(\"gemini-2.0-flash\")\n",
        "\n",
        "# .generate_content is a method used to send a prompt\n",
        "response = model.generate_content(\"Name one meal I can eat today.No explanation\")\n",
        "\n",
        "meal= response\n",
        "\n",
        "print(\"Meal Suggestion:\", meal)"
      ],
      "metadata": {
        "colab": {
          "base_uri": "https://localhost:8080/",
          "height": 509
        },
        "id": "vRwNYY_fCH8u",
        "outputId": "d1304862-6590-4366-9cec-2a1a576b4183"
      },
      "execution_count": 33,
      "outputs": [
        {
          "output_type": "stream",
          "name": "stdout",
          "text": [
            "Meal Suggestion: response:\n",
            "GenerateContentResponse(\n",
            "    done=True,\n",
            "    iterator=None,\n",
            "    result=protos.GenerateContentResponse({\n",
            "      \"candidates\": [\n",
            "        {\n",
            "          \"content\": {\n",
            "            \"parts\": [\n",
            "              {\n",
            "                \"text\": \"Pasta salad\\n\"\n",
            "              }\n",
            "            ],\n",
            "            \"role\": \"model\"\n",
            "          },\n",
            "          \"finish_reason\": \"STOP\",\n",
            "          \"avg_logprobs\": -0.573649009068807\n",
            "        }\n",
            "      ],\n",
            "      \"usage_metadata\": {\n",
            "        \"prompt_token_count\": 10,\n",
            "        \"candidates_token_count\": 3,\n",
            "        \"total_token_count\": 13\n",
            "      },\n",
            "      \"model_version\": \"gemini-2.0-flash\"\n",
            "    }),\n",
            ")\n"
          ]
        }
      ]
    },
    {
      "cell_type": "code",
      "source": [
        "# .text is used to access the content of a response as a plain string\n",
        "#.strip() is used to remove any leading and trailing whitespace\n",
        "meal = response.text.strip()\n",
        "\n",
        "print(\"\\n Meal Suggestion:\",meal)"
      ],
      "metadata": {
        "colab": {
          "base_uri": "https://localhost:8080/"
        },
        "id": "CMLgI24oCKg-",
        "outputId": "73cb0c45-0054-4d18-cff6-3d9d8a92a3ed"
      },
      "execution_count": 34,
      "outputs": [
        {
          "output_type": "stream",
          "name": "stdout",
          "text": [
            "\n",
            " Meal Suggestion: Pasta salad\n"
          ]
        }
      ]
    },
    {
      "cell_type": "markdown",
      "source": [
        "#### 3.2Code to make basic HuggingFace API to generate image"
      ],
      "metadata": {
        "id": "liqnljKVDzXL"
      }
    },
    {
      "cell_type": "code",
      "source": [
        "# requests: Simplifies sending HTTP requests like GET and POST in Python.\n",
        "# PIL : Used for opening, editing, and saving images.\n",
        "# BytesIO : Handles byte data as a file-like object in memory.\n",
        "\n",
        "import requests\n",
        "from PIL import Image\n",
        "from io import BytesIO\n",
        "\n",
        "# Hugging Face API key and endpoint for Stable Diffusion model\n",
        "HF_API_KEY = \"YOUR_HUGGINGFACE_API_KEY\"\n",
        "API_URL = \"https://api-inference.huggingface.co/models/runwayml/stable-diffusion-v1-5\"\n",
        "\n",
        "\n",
        "#Sets headers for authentication and specifies the request body type as JSON format.\n",
        "headers = {\n",
        "    \"Authorization\": f\"Bearer {HF_API_KEY}\",\n",
        "    \"Content-Type\": \"application/json\"\n",
        "}\n",
        "\n",
        "user_prompt = meal\n",
        "\n",
        "# Prepare the payload with the user prompt\n",
        "payload = {\n",
        "    \"inputs\": user_prompt,\n",
        "    \"options\": {\"wait_for_model\": True}\n",
        "}\n",
        "\n",
        "# Send request to Hugging Face API\n",
        "print(\"\\n Generating image...\")\n",
        "\n",
        "response = requests.post(API_URL, headers=headers, json=payload)\n",
        "\n",
        "if response.status_code == 200:\n",
        "    # Open the generated image from the response\n",
        "    image_data = response.content\n",
        "    image = Image.open(BytesIO(image_data))\n",
        "\n",
        "    # Display the image\n",
        "    image.show()\n",
        "\n",
        "    # Optional: Save the image\n",
        "    image.save(\"generated_image.png\")\n",
        "    print(\" Image saved as generated_image.png\")\n",
        "else:\n",
        "    print(\" Image generation failed:\", response.status_code)\n",
        "    print(response.text)"
      ],
      "metadata": {
        "colab": {
          "base_uri": "https://localhost:8080/"
        },
        "id": "nwqf8d0aCNiw",
        "outputId": "97d9e603-2e2e-459a-cb70-b9999a603bd4"
      },
      "execution_count": 35,
      "outputs": [
        {
          "output_type": "stream",
          "name": "stdout",
          "text": [
            "\n",
            " Generating image...\n",
            " Image saved as generated_image.png\n"
          ]
        }
      ]
    },
    {
      "cell_type": "markdown",
      "source": [
        "#### 3.3Code to make basic gTTs generate audio"
      ],
      "metadata": {
        "id": "FhJ8wc6BD5fl"
      }
    },
    {
      "cell_type": "code",
      "source": [
        "# pip install gTTs"
      ],
      "metadata": {
        "id": "GjK5LXsRCPRX"
      },
      "execution_count": 36,
      "outputs": []
    },
    {
      "cell_type": "code",
      "source": [
        "# pip install gTTs\n",
        "\n",
        "import google.generativeai as genai\n",
        "from gtts import gTTS\n",
        "import os\n",
        "\n",
        "# Configure Gemini\n",
        "\n",
        "genai.configure(api_key=\"YOUR_API_KEY\")\n",
        "\n",
        "prompt = f\"Explain why {meal} is beneficial for breakfast in one simple paragraph, without using bullet points or lists..\"\n",
        "\n",
        "# .text is used to access the content of a response as a plain string\n",
        "#.strip() is used to remove any leading and trailing whitespace\n",
        "\n",
        "response = model.generate_content(prompt)\n",
        "formatted_explanation = response.text.strip()\n",
        "\n",
        "print(\"Explanation:\", formatted_explanation)\n",
        "\n",
        "\n",
        "# Convert the generated explanation to audio using gTTS\n",
        "\n",
        "def generate_audio(formatted_explanation):\n",
        "    # Generate audio using gTTS\n",
        "    tts = gTTS(text=formatted_explanation, lang='en')\n",
        "     # Save the audio to a file\n",
        "    tts.save(\"meal_suggestion.mp3\")\n",
        "    print(\"Audio saved as 'meal_suggestion.mp3'\")\n",
        "\n",
        "# Generate and save audio from the quote\n",
        "\n",
        "generate_audio(formatted_explanation)"
      ],
      "metadata": {
        "colab": {
          "base_uri": "https://localhost:8080/",
          "height": 73
        },
        "id": "B68-Ax9uCXaT",
        "outputId": "59965bb3-8fea-4650-e871-7032f3c944a0"
      },
      "execution_count": 37,
      "outputs": [
        {
          "output_type": "stream",
          "name": "stdout",
          "text": [
            "Explanation: Pasta salad can be a surprisingly beneficial breakfast option because it offers a balanced combination of carbohydrates for sustained energy, protein for satiety and muscle support (depending on the additions like cheese, meat, or beans), and fiber from vegetables, contributing to improved digestion and preventing blood sugar spikes early in the day. This nutritional profile can fuel your morning activities and keep you feeling full and focused until your next meal, making it a more substantial and potentially healthier alternative to sugary cereals or pastries.\n",
            "Audio saved as 'meal_suggestion.mp3'\n"
          ]
        }
      ]
    },
    {
      "cell_type": "markdown",
      "source": [
        "### 4.Users should be able to understand the need for parsing and utilizing structured API responses."
      ],
      "metadata": {
        "id": "J7b6fhEWEkeI"
      }
    },
    {
      "cell_type": "markdown",
      "source": [
        "#### 4.1Use Spoonacular API to parse the suggested meal to extract the recipe title and ID"
      ],
      "metadata": {
        "id": "7_-57l4KEouW"
      }
    },
    {
      "cell_type": "code",
      "source": [
        "import requests\n",
        "\n",
        "api_key = \"YOUR_SPOONACULAR_API_KEY\"\n",
        "meal_name = meal\n",
        "\n",
        "url = \"https://api.spoonacular.com/recipes/complexSearch\"\n",
        "params = {\n",
        "    \"query\": meal_name,\n",
        "    \"number\": 1,\n",
        "    \"apiKey\": api_key\n",
        "}\n",
        "\n",
        "response = requests.get(url, params=params)\n",
        "\n",
        "if response.status_code == 200:\n",
        "    data = response.json()\n",
        "    results = data.get(\"results\", [])\n",
        "    if results:\n",
        "        recipe = results[0]\n",
        "        print(f\"Recipe Title: {recipe['title']}\")\n",
        "        print(f\"Recipe ID: {recipe['id']}\")\n",
        "    else:\n",
        "        print(\"No recipes found for this meal.\")\n",
        "else:\n",
        "    print(f\"Error: {response.status_code}\")\n",
        "    print(response.text)"
      ],
      "metadata": {
        "colab": {
          "base_uri": "https://localhost:8080/"
        },
        "id": "SYkocSkyCZnB",
        "outputId": "caac1d2c-f62d-4d71-a2ce-6bde1e9d7dfb"
      },
      "execution_count": 38,
      "outputs": [
        {
          "output_type": "stream",
          "name": "stdout",
          "text": [
            "Recipe Title: Tricolor Rotini pasta Salad\n",
            "Recipe ID: 663813\n"
          ]
        }
      ]
    },
    {
      "cell_type": "markdown",
      "source": [
        "#### 4.2Use the recipe title generated to explain the dish in a structured way"
      ],
      "metadata": {
        "id": "joWZyzwxE7Xq"
      }
    },
    {
      "cell_type": "code",
      "source": [
        "import google.generativeai as genai\n",
        "\n",
        "# Configure with your Gemini API key\n",
        "genai.configure(api_key=\"YOUR_API_KEY\")\n",
        "\n",
        "# Initialize the model\n",
        "model = genai.GenerativeModel(\"gemini-2.0-flash\")\n",
        "\n",
        "# Use recipe title to generate a descriptive explanation\n",
        "prompt = f\"Explain what the meal '{recipe['title']}' is, and how it's typically prepared.\"\n",
        "\n",
        "response = model.generate_content(prompt)\n",
        "\n",
        "#  Parse the structured GenAI response\n",
        "genai_text = response.text\n",
        "print(genai_text)"
      ],
      "metadata": {
        "colab": {
          "base_uri": "https://localhost:8080/",
          "height": 694
        },
        "id": "jQJyeJ4NCrVu",
        "outputId": "0258fb64-88cb-456a-b899-f604b746e514"
      },
      "execution_count": 39,
      "outputs": [
        {
          "output_type": "stream",
          "name": "stdout",
          "text": [
            "Tricolor Rotini Pasta Salad is a classic and versatile dish, popular for potlucks, picnics, and easy weeknight meals. It's essentially a cold pasta salad featuring rotini pasta that comes in three colors (hence the \"tricolor\").  These colors are usually red (tomato), green (spinach), and plain/white (semolina).\n",
            "\n",
            "Here's a breakdown of what it is and how it's typically prepared:\n",
            "\n",
            "**What it is:**\n",
            "\n",
            "*   **Base:** Rotini pasta, distinguished by its corkscrew shape and the three colors. The shape holds the dressing and ingredients well.\n",
            "*   **Ingredients:** Beyond the pasta, the ingredients are highly customizable. Common additions include:\n",
            "    *   **Vegetables:**  Cherry tomatoes (halved or quartered), bell peppers (diced), cucumbers (diced), red onion (thinly sliced or diced), black olives (sliced), broccoli florets (blanched or raw), carrots (shredded or diced), celery (diced), zucchini (diced).\n",
            "    *   **Cheese:**  Cubes of mozzarella, provolone, cheddar, or feta. Sometimes Parmesan cheese is sprinkled on top.\n",
            "    *   **Meat/Protein:** Sliced pepperoni, salami, ham, cooked chicken, or even chickpeas for a vegetarian option.\n",
            "    *   **Herbs:** Fresh parsley, basil, or oregano are often added for flavor.\n",
            "*   **Dressing:**  Usually a vinaigrette-based dressing.  Italian dressing is a very common choice, but homemade versions with olive oil, vinegar (red wine, balsamic, or white wine), garlic, herbs, and spices are also popular.\n",
            "\n",
            "**How it's typically prepared:**\n",
            "\n",
            "1.  **Cook the Pasta:** Cook the rotini pasta according to package directions until al dente (slightly firm to the bite). This is important because the pasta will continue to soften as it sits in the dressing.\n",
            "2.  **Drain and Rinse:** Immediately drain the pasta and rinse it with cold water to stop the cooking process and remove excess starch. This helps prevent the pasta from sticking together.  Some recipes suggest tossing it with a little olive oil after rinsing.\n",
            "3.  **Prepare the Ingredients:** While the pasta is cooking, chop all the vegetables, cheese, and meat (if using) into bite-sized pieces.\n",
            "4.  **Combine Ingredients:** In a large bowl, combine the cooked and cooled pasta with all the chopped ingredients.\n",
            "5.  **Prepare the Dressing:**  If making homemade dressing, whisk together the olive oil, vinegar, herbs, and spices in a separate bowl or jar. You can also use store-bought Italian dressing or another vinaigrette.\n",
            "6.  **Dress the Salad:** Pour the dressing over the pasta and ingredients. Toss gently to coat everything evenly. Be careful not to overdress the salad, as it can become soggy. Start with less dressing and add more as needed.\n",
            "7.  **Chill (Optional but Recommended):** Cover the pasta salad and refrigerate for at least 30 minutes (or preferably longer) to allow the flavors to meld together.  This is important!\n",
            "8.  **Adjust Seasoning:** Before serving, taste the pasta salad and adjust the seasoning as needed. You may want to add more salt, pepper, or dressing.\n",
            "9.  **Serve:** Serve cold. It's best served within a day or two, as the pasta can start to absorb too much dressing and become soft over time.\n",
            "\n",
            "**Key Considerations:**\n",
            "\n",
            "*   **Don't overcook the pasta:**  Al dente is key.\n",
            "*   **Cool the pasta thoroughly:** Prevents the salad from becoming soggy.\n",
            "*   **Don't overdress:** Start with less dressing and add more if needed.\n",
            "*   **Chill for best flavor:** Chilling allows the flavors to combine and the pasta to absorb the dressing.\n",
            "*   **Customize to your liking:** The beauty of this salad is its versatility. Feel free to substitute ingredients based on your preferences and what you have on hand.\n",
            "\n",
            "Enjoy!\n",
            "\n"
          ]
        }
      ]
    },
    {
      "cell_type": "markdown",
      "source": [
        "### 5.Users should be able to integrate multiple APIs into a single workflow"
      ],
      "metadata": {
        "id": "l45OYGNcEUV8"
      }
    },
    {
      "cell_type": "markdown",
      "source": [
        "#### 5.1Use Spoonacular API to generate the ingredients required for the meal"
      ],
      "metadata": {
        "id": "rwM2412mEXn4"
      }
    },
    {
      "cell_type": "code",
      "source": [
        "import requests\n",
        "\n",
        "api_key = \"YOUR_SPOONACULAR_API_KEY\"\n",
        "recipe_id = recipe['id']  # Replace with the actual ID from complexSearch\n",
        "\n",
        "url = f\"https://api.spoonacular.com/recipes/{recipe_id}/information\"\n",
        "\n",
        "params = {\n",
        "    \"apiKey\": api_key,\n",
        "    \"includeNutrition\": False  # Optional\n",
        "}\n",
        "\n",
        "response = requests.get(url, params=params)\n",
        "\n",
        "if response.status_code == 200:\n",
        "    data = response.json()\n",
        "    print(f\"Title: {data['title']}\")\n",
        "    print(\"Ingredients:\")\n",
        "    for ing in data[\"extendedIngredients\"]:\n",
        "        print(f\"- {ing['original']}\")\n",
        "else:\n",
        "    print(f\"Error: {response.status_code}\")\n",
        "    print(response.text)"
      ],
      "metadata": {
        "colab": {
          "base_uri": "https://localhost:8080/"
        },
        "id": "ch9yAiMiC58B",
        "outputId": "fdf65a55-8ecf-4cff-c378-bf3e56dc3878"
      },
      "execution_count": 40,
      "outputs": [
        {
          "output_type": "stream",
          "name": "stdout",
          "text": [
            "Title: Tricolor Rotini pasta Salad\n",
            "Ingredients:\n",
            "- 1) Tri colour Rotini Pasta 100 gm\n",
            "- 2) Lettuce 2 Leaves\n",
            "- 3) Olives 10 nos\n",
            "- 4) Cucumber 1 small\n",
            "- 5) Plum tomato 5 nos\n",
            "- 6) Mayonnaise 2 Tbsp\n",
            "- 7) Black pepper powder 1 Tsp\n",
            "- 8) Salt ¼ Tsp\n"
          ]
        }
      ]
    },
    {
      "cell_type": "markdown",
      "source": [
        "#### 5.2Extract the nutrition of the ingredients using recipe id"
      ],
      "metadata": {
        "id": "NeQfR0lSHBzS"
      }
    },
    {
      "cell_type": "code",
      "source": [
        "import requests\n",
        "\n",
        "api_key = \"YOUR_SPOONACULAR_API_KEY\"\n",
        "recipe_id = recipe['id']\n",
        "\n",
        "# --- Get Recipe Info ---\n",
        "info_url = f\"https://api.spoonacular.com/recipes/{recipe_id}/information\"\n",
        "info_params = {\n",
        "    \"apiKey\": api_key,\n",
        "    \"includeNutrition\": False\n",
        "}\n",
        "\n",
        "info_response = requests.get(info_url, params=info_params)\n",
        "# --- Get Nutrition Info ---\n",
        "nutrition_url = f\"https://api.spoonacular.com/recipes/{recipe_id}/nutritionWidget.json\"\n",
        "nutrition_params = {\n",
        "    \"apiKey\": api_key\n",
        "}\n",
        "\n",
        "nutrition_response = requests.get(nutrition_url, params=nutrition_params)\n",
        "\n",
        "if nutrition_response.status_code == 200:\n",
        "    nutrition_data = nutrition_response.json()\n",
        "    print(\"\\n Nutrition Info:\")\n",
        "    for nutrient in nutrition_data[\"nutrients\"]:\n",
        "        print(f\"- {nutrient['name']}: {nutrient['amount']} {nutrient['unit']} ({nutrient['percentOfDailyNeeds']}% of daily needs)\")\n",
        "else:\n",
        "    print(f\"\\nError fetching nutrition data: {nutrition_response.status_code}\")\n",
        "    print(nutrition_response.text)\n"
      ],
      "metadata": {
        "colab": {
          "base_uri": "https://localhost:8080/"
        },
        "id": "0jepJAdYC-HB",
        "outputId": "94658331-13a7-420a-b850-07dbda2ecf63"
      },
      "execution_count": 41,
      "outputs": [
        {
          "output_type": "stream",
          "name": "stdout",
          "text": [
            "\n",
            " Nutrition Info:\n",
            "- Calories: 145.59 kcal (7.28% of daily needs)\n",
            "- Fat: 5.04 g (7.76% of daily needs)\n",
            "- Saturated Fat: 0.71 g (4.44% of daily needs)\n",
            "- Carbohydrates: 22.31 g (7.44% of daily needs)\n",
            "- Net Carbohydrates: 14.85 g (5.4% of daily needs)\n",
            "- Sugar: 13.02 g (14.47% of daily needs)\n",
            "- Cholesterol: 1.26 mg (0.42% of daily needs)\n",
            "- Sodium: 1690.52 mg (73.5% of daily needs)\n",
            "- Alcohol: 0 g (100% of daily needs)\n",
            "- Alcohol %: 0 % (100% of daily needs)\n",
            "- Protein: 5.72 g (11.44% of daily needs)\n",
            "- Vitamin A: 4981.99 IU (99.64% of daily needs)\n",
            "- Vitamin K: 63.23 µg (60.22% of daily needs)\n",
            "- Vitamin C: 47.43 mg (57.49% of daily needs)\n",
            "- Manganese: 0.77 mg (38.27% of daily needs)\n",
            "- Potassium: 1304.95 mg (37.28% of daily needs)\n",
            "- Folate: 120.5 µg (30.13% of daily needs)\n",
            "- Fiber: 7.47 g (29.86% of daily needs)\n",
            "- Vitamin B6: 0.54 mg (27.13% of daily needs)\n",
            "- Copper: 0.54 mg (27.05% of daily needs)\n",
            "- Magnesium: 98.49 mg (24.62% of daily needs)\n",
            "- Vitamin B1: 0.28 mg (18.72% of daily needs)\n",
            "- Phosphorus: 182.23 mg (18.22% of daily needs)\n",
            "- Vitamin E: 2.46 mg (16.4% of daily needs)\n",
            "- Vitamin B5: 1.59 mg (15.87% of daily needs)\n",
            "- Vitamin B2: 0.24 mg (13.94% of daily needs)\n",
            "- Iron: 2.28 mg (12.68% of daily needs)\n",
            "- Calcium: 117.75 mg (11.77% of daily needs)\n",
            "- Zinc: 1.44 mg (9.57% of daily needs)\n",
            "- Vitamin B3: 1.57 mg (7.83% of daily needs)\n",
            "- Selenium: 1.5 µg (2.14% of daily needs)\n"
          ]
        }
      ]
    },
    {
      "cell_type": "code",
      "source": [],
      "metadata": {
        "id": "WsQRAbjrGt0d"
      },
      "execution_count": 41,
      "outputs": []
    }
  ]
}