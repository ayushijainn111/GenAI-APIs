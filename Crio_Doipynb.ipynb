{
  "nbformat": 4,
  "nbformat_minor": 0,
  "metadata": {
    "colab": {
      "provenance": [],
      "toc_visible": true,
      "include_colab_link": true
    },
    "kernelspec": {
      "name": "python3",
      "display_name": "Python 3"
    },
    "language_info": {
      "name": "python"
    }
  },
  "cells": [
    {
      "cell_type": "markdown",
      "metadata": {
        "id": "view-in-github",
        "colab_type": "text"
      },
      "source": [
        "<a href=\"https://colab.research.google.com/github/ayushijainn111/GenAI-APIs/blob/main/Crio_Doipynb.ipynb\" target=\"_parent\"><img src=\"https://colab.research.google.com/assets/colab-badge.svg\" alt=\"Open In Colab\"/></a>"
      ]
    },
    {
      "cell_type": "code",
      "source": [
        "# pip install --upgrade google-generativeai"
      ],
      "metadata": {
        "id": "F6Y3R7z9zSAw"
      },
      "execution_count": 1,
      "outputs": []
    },
    {
      "cell_type": "markdown",
      "source": [
        "##   1.Users should understand the need for using APIs to access LLMs"
      ],
      "metadata": {
        "id": "BMuM1SCSuOpb"
      }
    },
    {
      "cell_type": "markdown",
      "source": [
        "### Stimulate a traditional assistant without AI"
      ],
      "metadata": {
        "id": "tDXl9OtTuUpU"
      }
    },
    {
      "cell_type": "code",
      "source": [
        "#NOTE:\n",
        "# random is a library used in python to generate random numbers or make random choices\n",
        "\n",
        "import random\n",
        "\n",
        "quotes = [\n",
        "    \"Believe in yourself!\",\n",
        "    \"You are stronger than you think.\",\n",
        "    \"Keep going, you're doing great!\"\n",
        "]\n",
        "\n",
        "# random.choice() is used to pick one item at random from a list or other sequence\n",
        "\n",
        "print(\"Motivational Quote:\", random.choice(quotes))"
      ],
      "metadata": {
        "colab": {
          "base_uri": "https://localhost:8080/"
        },
        "id": "zU-D3qUKuNY3",
        "outputId": "48b501cd-9e90-450d-e721-61bedd6f259d"
      },
      "execution_count": 2,
      "outputs": [
        {
          "output_type": "stream",
          "name": "stdout",
          "text": [
            "Motivational Quote: You are stronger than you think.\n"
          ]
        }
      ]
    },
    {
      "cell_type": "markdown",
      "source": [
        "### Stimulate Local AI (which is not possible)"
      ],
      "metadata": {
        "id": "o-9bopszuZ1k"
      }
    },
    {
      "cell_type": "code",
      "source": [
        "# Requirements to construct a local LLM:\n",
        "# 100+ GB of RAM\n",
        "# 10+ GB model download (like LLaMA)\n",
        "# High-end GPUs\n",
        "# Complex installation & optimization\n",
        "\n",
        "# This is to understand the importance of the need to use API’s to access LLMs."
      ],
      "metadata": {
        "id": "HyIYKKqjudmq"
      },
      "execution_count": 3,
      "outputs": []
    },
    {
      "cell_type": "markdown",
      "source": [
        "## 2.Users should be able to Authenticate and interact with GenAI APIs to generate text, audio, and image"
      ],
      "metadata": {
        "id": "rArVCZ1Yuhox"
      }
    },
    {
      "cell_type": "markdown",
      "source": [
        "### Code to make basic Gemini API to extract result"
      ],
      "metadata": {
        "id": "7dEn-05munaO"
      }
    },
    {
      "cell_type": "code",
      "source": [
        "import google.generativeai as genai\n",
        "\n",
        "genai.configure(api_key=\"YOUR_API_KEY\")\n",
        "\n",
        "model = genai.GenerativeModel(\"gemini-2.0-flash\")\n",
        "\n",
        "response = model.generate_content(\"Give me a motivational quote\")\n",
        "quote = response\n",
        "\n",
        "print(\"Quote of the day:\", quote)"
      ],
      "metadata": {
        "colab": {
          "base_uri": "https://localhost:8080/",
          "height": 509
        },
        "id": "rRNe2xa_yLDc",
        "outputId": "710bf59f-1592-40ca-990c-d9af53aa279e"
      },
      "execution_count": 4,
      "outputs": [
        {
          "output_type": "stream",
          "name": "stdout",
          "text": [
            "Quote of the day: response:\n",
            "GenerateContentResponse(\n",
            "    done=True,\n",
            "    iterator=None,\n",
            "    result=protos.GenerateContentResponse({\n",
            "      \"candidates\": [\n",
            "        {\n",
            "          \"content\": {\n",
            "            \"parts\": [\n",
            "              {\n",
            "                \"text\": \"\\\"The only way to do great work is to love what you do.\\\" - Steve Jobs\\n\"\n",
            "              }\n",
            "            ],\n",
            "            \"role\": \"model\"\n",
            "          },\n",
            "          \"finish_reason\": \"STOP\",\n",
            "          \"avg_logprobs\": -0.006387372942347275\n",
            "        }\n",
            "      ],\n",
            "      \"usage_metadata\": {\n",
            "        \"prompt_token_count\": 5,\n",
            "        \"candidates_token_count\": 19,\n",
            "        \"total_token_count\": 24\n",
            "      },\n",
            "      \"model_version\": \"gemini-2.0-flash\"\n",
            "    }),\n",
            ")\n"
          ]
        }
      ]
    },
    {
      "cell_type": "markdown",
      "source": [
        "## 3.Users should be able to understand the need for parsing and utilizing structured API responses."
      ],
      "metadata": {
        "id": "b2HnIlimu4fm"
      }
    },
    {
      "cell_type": "markdown",
      "source": [
        "### Code to generate motivational quote in a structured way"
      ],
      "metadata": {
        "id": "4JXVsubiu8VT"
      }
    },
    {
      "cell_type": "code",
      "source": [
        "# .text is used to access the content of a response as a plain string\n",
        "#.strip() is used to remove any leading and trailing whitespace\n",
        "quote = response.text.strip()\n",
        "\n",
        "print(\"\\n Quote of the day:\",quote)"
      ],
      "metadata": {
        "colab": {
          "base_uri": "https://localhost:8080/"
        },
        "id": "WsrmpKe2uwRB",
        "outputId": "006187ab-dc63-4458-d2b0-e5f3b7feaa63"
      },
      "execution_count": 5,
      "outputs": [
        {
          "output_type": "stream",
          "name": "stdout",
          "text": [
            "\n",
            " Quote of the day: \"The only way to do great work is to love what you do.\" - Steve Jobs\n"
          ]
        }
      ]
    },
    {
      "cell_type": "markdown",
      "source": [
        "### Code to explain the motivational code in simpler words"
      ],
      "metadata": {
        "id": "TXAi4Q4Uv8sv"
      }
    },
    {
      "cell_type": "code",
      "source": [
        "prompt = f\"Explain this quote in simple words: {quote}\"\n",
        "\n",
        "response = model.generate_content(prompt)\n",
        "explanation = response.text.strip()\n",
        "\n",
        "formatted_explanation = explanation.replace(\".\", \".\\n\")\n",
        "\n",
        "print(\"Explanation:\", formatted_explanation)"
      ],
      "metadata": {
        "colab": {
          "base_uri": "https://localhost:8080/",
          "height": 236
        },
        "id": "ZLArjoLOvFZe",
        "outputId": "4a839907-cdef-4c0e-b340-ccc6e82981a6"
      },
      "execution_count": 6,
      "outputs": [
        {
          "output_type": "stream",
          "name": "stdout",
          "text": [
            "Explanation: Okay, imagine you're building a LEGO castle.\n",
            " If you **love** LEGOs and enjoy the process, you'll spend more time on it, try different techniques, and put in the extra effort to make it really amazing.\n",
            "\n",
            "\n",
            "But if you **hate** LEGOs, you'll probably rush through it, not care about the details, and the final castle won't be very impressive.\n",
            "\n",
            "\n",
            "That's what Steve Jobs meant.\n",
            " He's saying that if you want to create something **truly great** – a product, a business, a work of art, anything – you need to **enjoy** what you're doing.\n",
            "  Because when you love something, you're more passionate, dedicated, and willing to put in the hard work needed to make it exceptional.\n",
            "  If you don't love it, you're less likely to put in that extra effort.\n",
            "\n"
          ]
        }
      ]
    },
    {
      "cell_type": "markdown",
      "source": [
        "## 4.Users should be able to implement best practices for API error handling and retries"
      ],
      "metadata": {
        "id": "046CuUIiwZ8A"
      }
    },
    {
      "cell_type": "markdown",
      "source": [
        "### Function with retries and exponential backoff to handle API errors"
      ],
      "metadata": {
        "id": "oSIR-h8RwbMs"
      }
    },
    {
      "cell_type": "code",
      "source": [
        "import time\n",
        "\n",
        "def safe_gemini_call(prompt, retries=3):\n",
        "    for attempt in range(retries):\n",
        "\n",
        "    # try - except Block is used to catch and handle errors\n",
        "        try:\n",
        "            response = model.generate_content(prompt)\n",
        "            return response.text.strip()\n",
        "\n",
        "    #Exception as e captures the error message into a variable e\n",
        "        except Exception as e:\n",
        "            print(f\"Attempt {attempt+1} failed: {e}\")\n",
        "    # time.sleep() pauses the program for given no of seconds\n",
        "    # before continuing\n",
        "            time.sleep(2 ** attempt)\n",
        "    return \"Sorry, couldn't generate a response.\""
      ],
      "metadata": {
        "id": "pX9QDJ70wPRn"
      },
      "execution_count": 7,
      "outputs": []
    },
    {
      "cell_type": "markdown",
      "source": [
        "## 5.Users should be able to integrate multiple APIs into a single workflow"
      ],
      "metadata": {
        "id": "W6Omv3uewlr5"
      }
    },
    {
      "cell_type": "markdown",
      "source": [
        "### Use the googletrans library to automatically translate the motivational quote you received in Hindi"
      ],
      "metadata": {
        "id": "JANqK455wn58"
      }
    },
    {
      "cell_type": "code",
      "source": [
        "# pip install googletrans==4.0.0-rc1"
      ],
      "metadata": {
        "id": "WOTz3hpN110m"
      },
      "execution_count": 8,
      "outputs": []
    },
    {
      "cell_type": "code",
      "source": [
        "from googletrans import Translator\n",
        "\n",
        "translator = Translator()\n",
        "translated_quote = translator.translate(quote, dest='hi').text\n",
        "\n",
        "print(\"Hindi Translation:\", translated_quote)"
      ],
      "metadata": {
        "colab": {
          "base_uri": "https://localhost:8080/"
        },
        "id": "8b2pAnW-1ve-",
        "outputId": "44beaa32-5947-42f2-9201-0656b241f429"
      },
      "execution_count": 9,
      "outputs": [
        {
          "output_type": "stream",
          "name": "stdout",
          "text": [
            "Hindi Translation: \"महान काम करने का एकमात्र तरीका यह है कि आप क्या करते हैं।\"- स्टीव जॉब्स\n"
          ]
        }
      ]
    },
    {
      "cell_type": "markdown",
      "source": [
        "## 6.Final Implementation"
      ],
      "metadata": {
        "id": "D2Cs5g9rxELZ"
      }
    },
    {
      "cell_type": "code",
      "source": [
        "import google.generativeai as genai\n",
        "from googletrans import Translator\n",
        "import os\n",
        "import time\n",
        "\n",
        "genai.configure(api_key=\"YOUR_API_KEY\")\n",
        "model = genai.GenerativeModel(\"gemini-2.0-flash\")\n",
        "\n",
        "def safe_gemini_call(prompt, retries=3):\n",
        "    for attempt in range(retries):\n",
        "        try:\n",
        "            response = model.generate_content(prompt)\n",
        "            return response.text.strip()\n",
        "        except Exception as e:\n",
        "            print(f\"Attempt {attempt+1} failed: {e}\")\n",
        "            time.sleep(2 ** attempt)\n",
        "    return \"Sorry, couldn't generate a response.\"\n",
        "\n",
        "# Generate the motivational quote\n",
        "quote = safe_gemini_call(\"Give me a motivational quote\")\n",
        "print(\"\\n Quote:\", quote)\n",
        "\n",
        "# Explain the motivational quote using safe_gemini_call\n",
        "explanation = safe_gemini_call(f\"Explain this quote in simple words: {quote}\")\n",
        "print(\"\\n Explanation:\", explanation)\n",
        "\n",
        "# Translate the quote in Hindi\n",
        "translator = Translator()\n",
        "translated = translator.translate(quote, dest='hi').text\n",
        "print(\"\\n Translated (Hindi):\", translated)"
      ],
      "metadata": {
        "colab": {
          "base_uri": "https://localhost:8080/",
          "height": 292
        },
        "id": "7PId7aXl2Faj",
        "outputId": "e1f8870f-60e1-4438-f5ad-f5c02492dafb"
      },
      "execution_count": 11,
      "outputs": [
        {
          "output_type": "stream",
          "name": "stdout",
          "text": [
            "\n",
            " Quote: \"The only way to do great work is to love what you do.\" - Steve Jobs\n",
            "\n",
            " Explanation: Basically, Steve Jobs is saying: **If you want to create something amazing, you HAVE to enjoy what you're doing.**\n",
            "\n",
            "Think about it this way:\n",
            "\n",
            "* **Love = Passion:** When you love something, you're passionate about it. You care deeply.\n",
            "* **Passion = Hard Work:**  Because you're passionate, you're more willing to put in the long hours, overcome challenges, and keep going even when things get tough.\n",
            "* **Hard Work (fueled by passion) = Great Work:**  All that effort and dedication, driven by your love for the task, ultimately leads to incredible results.\n",
            "\n",
            "So, if you're just going through the motions because it's a job or you think you *should* do it, you're unlikely to produce something truly exceptional. But if you're doing something you genuinely love, that passion will drive you to do your best, and that's when great work happens.\n",
            "\n",
            " Translated (Hindi): \"महान काम करने का एकमात्र तरीका यह है कि आप क्या करते हैं।\"- स्टीव जॉब्स\n"
          ]
        }
      ]
    },
    {
      "cell_type": "code",
      "source": [],
      "metadata": {
        "id": "TZ-2gxaW2Tw-"
      },
      "execution_count": 10,
      "outputs": []
    }
  ]
}